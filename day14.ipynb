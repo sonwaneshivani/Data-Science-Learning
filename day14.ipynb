{
 "cells": [
  {
   "attachments": {},
   "cell_type": "markdown",
   "metadata": {},
   "source": [
    "List of general use exceptions"
   ]
  },
  {
   "attachments": {},
   "cell_type": "markdown",
   "metadata": {},
   "source": [
    "ZeroDivisionError"
   ]
  },
  {
   "cell_type": "code",
   "execution_count": 3,
   "metadata": {},
   "outputs": [
    {
     "name": "stdout",
     "output_type": "stream",
     "text": [
      "division by zero\n"
     ]
    }
   ],
   "source": [
    "try:\n",
    "    a=10\n",
    "    1/0\n",
    "except ZeroDivisionError as  e:\n",
    "    print(e)"
   ]
  },
  {
   "attachments": {},
   "cell_type": "markdown",
   "metadata": {},
   "source": [
    "ValueError, TypeError"
   ]
  },
  {
   "cell_type": "code",
   "execution_count": 4,
   "metadata": {},
   "outputs": [
    {
     "name": "stdout",
     "output_type": "stream",
     "text": [
      "invalid literal for int() with base 10: 'sudh'\n"
     ]
    }
   ],
   "source": [
    "try:\n",
    "    int(\"sudh\")\n",
    "except (ValueError, TypeError) as e:\n",
    "    print(e)"
   ]
  },
  {
   "attachments": {},
   "cell_type": "markdown",
   "metadata": {},
   "source": [
    "In case of we dont know whatt kind of error, But not a better practice\n",
    "* Always mention type of error"
   ]
  },
  {
   "cell_type": "code",
   "execution_count": 5,
   "metadata": {},
   "outputs": [
    {
     "name": "stdout",
     "output_type": "stream",
     "text": [
      "It has an error\n"
     ]
    }
   ],
   "source": [
    "try:\n",
    "    int(\"sudh\")\n",
    "except:\n",
    "    print(\"It has an error\")\n"
   ]
  },
  {
   "attachments": {},
   "cell_type": "markdown",
   "metadata": {},
   "source": [
    "ImportError"
   ]
  },
  {
   "cell_type": "code",
   "execution_count": 8,
   "metadata": {},
   "outputs": [
    {
     "name": "stdout",
     "output_type": "stream",
     "text": [
      "No module named 'sudh'\n"
     ]
    }
   ],
   "source": [
    "try:\n",
    "    import sudh\n",
    "except ImportError as e:\n",
    "    print(e)"
   ]
  },
  {
   "attachments": {},
   "cell_type": "markdown",
   "metadata": {},
   "source": [
    "KeyError"
   ]
  },
  {
   "cell_type": "code",
   "execution_count": 12,
   "metadata": {},
   "outputs": [
    {
     "name": "stdout",
     "output_type": "stream",
     "text": [
      "'key10'\n"
     ]
    }
   ],
   "source": [
    "try:\n",
    "    d = {1:[3,4,5,6],'key':\"shiv\"}\n",
    "    d['key10']\n",
    "except KeyError as e:\n",
    "    print(e)"
   ]
  },
  {
   "attachments": {},
   "cell_type": "markdown",
   "metadata": {},
   "source": [
    "AttributeError = No method"
   ]
  },
  {
   "cell_type": "code",
   "execution_count": 13,
   "metadata": {},
   "outputs": [
    {
     "name": "stdout",
     "output_type": "stream",
     "text": [
      "'str' object has no attribute 'test'\n"
     ]
    }
   ],
   "source": [
    "try:\n",
    "    'shiv'.test()\n",
    "except AttributeError as e:\n",
    "    print(e)"
   ]
  },
  {
   "attachments": {},
   "cell_type": "markdown",
   "metadata": {},
   "source": [
    "Index Error"
   ]
  },
  {
   "cell_type": "code",
   "execution_count": 14,
   "metadata": {},
   "outputs": [
    {
     "name": "stdout",
     "output_type": "stream",
     "text": [
      "list index out of range\n"
     ]
    }
   ],
   "source": [
    "try:\n",
    "    l = [1,2,3,4]\n",
    "    l[10]\n",
    "except IndexError as e:\n",
    "    print(e)"
   ]
  },
  {
   "attachments": {},
   "cell_type": "markdown",
   "metadata": {},
   "source": [
    "Type Error"
   ]
  },
  {
   "cell_type": "code",
   "execution_count": 16,
   "metadata": {},
   "outputs": [
    {
     "name": "stdout",
     "output_type": "stream",
     "text": [
      "unsupported operand type(s) for +: 'int' and 'str'\n"
     ]
    }
   ],
   "source": [
    "try:\n",
    "    123 + \"shiv\"\n",
    "except TypeError as e:\n",
    "    print(e)"
   ]
  },
  {
   "attachments": {},
   "cell_type": "markdown",
   "metadata": {},
   "source": [
    "FileNotFoundError"
   ]
  },
  {
   "cell_type": "code",
   "execution_count": 26,
   "metadata": {},
   "outputs": [
    {
     "name": "stdout",
     "output_type": "stream",
     "text": [
      "[Errno 2] No such file or directory: 'test1000.txt'\n"
     ]
    }
   ],
   "source": [
    "try :\n",
    "    with open('test1000.txt','r') as f:\n",
    "        f.read()\n",
    "#this is executed bcoz exception/super class in very frst place then it will work & handle and we will not be able to capture another one encounter\n",
    "except Exception as e:\n",
    "    print(e)\n",
    "except FileNotFoundError as e:\n",
    "    print(e)        "
   ]
  },
  {
   "attachments": {},
   "cell_type": "markdown",
   "metadata": {},
   "source": [
    "exception/super class in very frst place then it will work & handle and we will not be able to capture another one encounter\n",
    "* But we are not allowed to write super class above later specific u can write(but should never use superclass above)"
   ]
  },
  {
   "attachments": {},
   "cell_type": "markdown",
   "metadata": {},
   "source": [
    "FileNotFoundError"
   ]
  },
  {
   "cell_type": "code",
   "execution_count": 25,
   "metadata": {},
   "outputs": [
    {
     "name": "stdout",
     "output_type": "stream",
     "text": [
      "Hello iam raised by Exception\n"
     ]
    }
   ],
   "source": [
    "try :\n",
    "    with open('test1000.txt','r') as f:\n",
    "        f.read()\n",
    "except Exception as e:\n",
    "    print(\"Hello iam raised by Exception\")\n",
    "except FileNotFoundError as e:\n",
    "    print(\"this is filenot found\",e)        "
   ]
  },
  {
   "attachments": {},
   "cell_type": "markdown",
   "metadata": {},
   "source": [
    "Inside a func "
   ]
  },
  {
   "cell_type": "code",
   "execution_count": 33,
   "metadata": {},
   "outputs": [],
   "source": [
    "def test():\n",
    "    try :\n",
    "        with open('test1000.txt','r') as f:\n",
    "            f.read()\n",
    "    except Exception as e:\n",
    "        print(\"Hello iam raised by Exception\")\n",
    "    except FileNotFoundError as e:\n",
    "        print(\"this is filenot found\",e)  "
   ]
  },
  {
   "cell_type": "code",
   "execution_count": 34,
   "metadata": {},
   "outputs": [
    {
     "name": "stdout",
     "output_type": "stream",
     "text": [
      "Hello iam raised by Exception\n"
     ]
    }
   ],
   "source": [
    "test()"
   ]
  },
  {
   "attachments": {},
   "cell_type": "markdown",
   "metadata": {},
   "source": [
    "Best Practices we should entertain in every coding implementation"
   ]
  },
  {
   "attachments": {},
   "cell_type": "markdown",
   "metadata": {},
   "source": [
    "Always write clean code with proper meaning"
   ]
  },
  {
   "attachments": {},
   "cell_type": "markdown",
   "metadata": {},
   "source": [
    "Use always a specific exception\n",
    "* Use specific one not generic one"
   ]
  },
  {
   "cell_type": "code",
   "execution_count": 38,
   "metadata": {},
   "outputs": [
    {
     "name": "stdout",
     "output_type": "stream",
     "text": [
      "division by zero\n"
     ]
    }
   ],
   "source": [
    "#Bad Practice\n",
    "try:\n",
    "    a=10\n",
    "    1/0\n",
    "#generic\n",
    "except Exception as e:\n",
    "    print(e)"
   ]
  },
  {
   "cell_type": "code",
   "execution_count": 39,
   "metadata": {},
   "outputs": [
    {
     "name": "stdout",
     "output_type": "stream",
     "text": [
      "division by zero\n"
     ]
    }
   ],
   "source": [
    "#Good practice\n",
    "try:\n",
    "    a=10\n",
    "    1/0\n",
    "#specific error handing\n",
    "except ZeroDivisionError as  e:\n",
    "    print(e)"
   ]
  },
  {
   "attachments": {},
   "cell_type": "markdown",
   "metadata": {},
   "source": [
    "Print always a valid message : Helpful for debugging"
   ]
  },
  {
   "cell_type": "code",
   "execution_count": 40,
   "metadata": {},
   "outputs": [
    {
     "name": "stdout",
     "output_type": "stream",
     "text": [
      "This is my zero division error iam handling  division by zero\n"
     ]
    }
   ],
   "source": [
    "try:\n",
    "    10/0\n",
    "except ZeroDivisionError as e:\n",
    "    print(\"This is my zero division error iam handling \",e)"
   ]
  },
  {
   "attachments": {},
   "cell_type": "markdown",
   "metadata": {},
   "source": [
    "Always try to Log- Whatever error we are recieving(instead of print(never use))"
   ]
  },
  {
   "cell_type": "code",
   "execution_count": 45,
   "metadata": {},
   "outputs": [],
   "source": [
    "import logging\n",
    "logging.basicConfig(filename=\"error.log\",level = logging.ERROR)\n",
    "try:\n",
    "    10/0\n",
    "except ZeroDivisionError as e:\n",
    "    logging.error(\"This is my zero division error iam handling {}\".format(e))"
   ]
  },
  {
   "attachments": {},
   "cell_type": "markdown",
   "metadata": {},
   "source": [
    "always avoid to  write a multiple(unnecessesary exceptions) exception handling . In case of good practice\n",
    "* Just write relevant"
   ]
  },
  {
   "cell_type": "code",
   "execution_count": 48,
   "metadata": {},
   "outputs": [],
   "source": [
    "try:\n",
    "    10/0\n",
    "except FileNotFoundError as e:\n",
    "    logging.error(\"This is my file not found {}\".format(e))\n",
    "except AttributeError as e:\n",
    "    logging.error(\"This is my attribute not found {}\".format(e))\n",
    "#It will come here\n",
    "except ZeroDivisionError as e:\n",
    "    logging.error(\"This is my zero division not found {}\".format(e))"
   ]
  },
  {
   "attachments": {},
   "cell_type": "markdown",
   "metadata": {},
   "source": [
    "Always try to prepare a proper documentation of proper code,proper model, proper modules/files/objects/methods that we create with proper valid meaningful info about every errors . Avoid inserting or cre"
   ]
  },
  {
   "attachments": {},
   "cell_type": "markdown",
   "metadata": {},
   "source": [
    "Clean up all the resources : Even if we open our data base connectivity, bcoz we will end up using unnecessary bandwidth of a database connection\n",
    "* In similar way when we are trying to do some network io operations we have to clean up entire io operation or else it will end up using unnecessary bandwidth which leads to overutilization of resources at any tym\n",
    "* Have to close file everytym  \n",
    "* Never do overutilization/underutilization of resources"
   ]
  },
  {
   "cell_type": "code",
   "execution_count": 51,
   "metadata": {},
   "outputs": [],
   "source": [
    "try:\n",
    "    with open('test9.txt','w') as f:\n",
    "        f.write(\"This is my msg\")\n",
    "except FileNotFoundError as e:\n",
    "    logging.error(\"This is my file not found {}\".format(e))\n",
    "#Even though there is no error we have to clean it in finally\n",
    "finally:\n",
    "    f.close()\n"
   ]
  },
  {
   "cell_type": "code",
   "execution_count": null,
   "metadata": {},
   "outputs": [],
   "source": []
  }
 ],
 "metadata": {
  "kernelspec": {
   "display_name": "Python 3",
   "language": "python",
   "name": "python3"
  },
  "language_info": {
   "codemirror_mode": {
    "name": "ipython",
    "version": 3
   },
   "file_extension": ".py",
   "mimetype": "text/x-python",
   "name": "python",
   "nbconvert_exporter": "python",
   "pygments_lexer": "ipython3",
   "version": "3.10.6"
  },
  "orig_nbformat": 4
 },
 "nbformat": 4,
 "nbformat_minor": 2
}
