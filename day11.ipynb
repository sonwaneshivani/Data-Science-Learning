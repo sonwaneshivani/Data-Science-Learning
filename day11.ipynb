{
 "cells": [
  {
   "attachments": {},
   "cell_type": "markdown",
   "metadata": {},
   "source": [
    "Files"
   ]
  },
  {
   "attachments": {},
   "cell_type": "markdown",
   "metadata": {},
   "source": [
    "Creating a file: file_name,mode\n",
    "* modes : read,write(rewrite),append(never delete previous but just add),binary,w+,r+,etc"
   ]
  },
  {
   "cell_type": "code",
   "execution_count": 30,
   "metadata": {},
   "outputs": [],
   "source": [
    "f = open(\"test.txt\",'w')"
   ]
  },
  {
   "attachments": {},
   "cell_type": "markdown",
   "metadata": {},
   "source": [
    "File gets created into the current directory"
   ]
  },
  {
   "attachments": {},
   "cell_type": "markdown",
   "metadata": {},
   "source": [
    "To know current directory : pwd(present working directory)"
   ]
  },
  {
   "cell_type": "code",
   "execution_count": 15,
   "metadata": {},
   "outputs": [
    {
     "data": {
      "text/plain": [
       "'c:\\\\Users\\\\SHIVANI\\\\Desktop\\\\python\\\\dataScience\\\\python'"
      ]
     },
     "execution_count": 15,
     "metadata": {},
     "output_type": "execute_result"
    }
   ],
   "source": [
    "pwd"
   ]
  },
  {
   "attachments": {},
   "cell_type": "markdown",
   "metadata": {},
   "source": [
    "ls gives all the files present inside working directory"
   ]
  },
  {
   "cell_type": "code",
   "execution_count": 12,
   "metadata": {},
   "outputs": [
    {
     "name": "stdout",
     "output_type": "stream",
     "text": [
      " Volume in drive C is Windows-SSD\n",
      " Volume Serial Number is 4C1A-23CA\n",
      "\n",
      " Directory of c:\\Users\\SHIVANI\\Desktop\\python\\dataScience\\python\n",
      "\n",
      "26-03-2023  18:27    <DIR>          .\n",
      "21-03-2023  13:10    <DIR>          ..\n",
      "22-03-2023  00:05            12,256 day1.ipynb\n",
      "26-03-2023  18:16            51,772 day10.ipynb\n",
      "26-03-2023  18:18               256 day11.ipynb\n",
      "22-03-2023  00:14            19,744 day2.ipynb\n",
      "22-03-2023  23:25            37,136 day3.ipynb\n",
      "23-03-2023  21:54            39,597 day4.ipynb\n",
      "24-03-2023  15:26            51,203 day5.ipynb\n",
      "26-03-2023  18:18            32,220 day6.ipynb\n",
      "24-03-2023  22:39            15,144 day7.ipynb\n",
      "24-03-2023  23:43            10,882 day8.ipynb\n",
      "25-03-2023  20:01            24,214 day9.ipynb\n",
      "26-03-2023  19:16               129 test.txt\n",
      "              12 File(s)        294,553 bytes\n",
      "               2 Dir(s)  189,932,158,976 bytes free\n"
     ]
    }
   ],
   "source": [
    "ls"
   ]
  },
  {
   "attachments": {},
   "cell_type": "markdown",
   "metadata": {},
   "source": [
    "Writing inside file"
   ]
  },
  {
   "cell_type": "code",
   "execution_count": 37,
   "metadata": {},
   "outputs": [],
   "source": [
    "f.write(\"This is my frst write operation \\n n the files. when they are very young and much smaller we use \\n the same size rope to tie them and, at that age, it’s enough to hold them. As they grow up, they are \\n conditioned to believe they cannot break away. They believe the \\n rope can still hold them, so they never \\n try to break free.\")\n",
    "#it will give bytes\n",
    "f.close()\n",
    "#without closing we are not able to see wht is written"
   ]
  },
  {
   "cell_type": "code",
   "execution_count": 6,
   "metadata": {},
   "outputs": [],
   "source": [
    "f = open(\"test.txt\",'a')\n",
    "f.write(\"This is my frst write operation n the files. when they are very young and much smaller we use the same size rope to tie them and, at that age, it’s enough to hold them. As they grow up, they are conditioned to believe they cannot break away. They believe the rope can still hold them, so they never try to break free.\")\n",
    "f.close()"
   ]
  },
  {
   "attachments": {},
   "cell_type": "markdown",
   "metadata": {},
   "source": [
    "Read operation"
   ]
  },
  {
   "cell_type": "code",
   "execution_count": 7,
   "metadata": {},
   "outputs": [
    {
     "data": {
      "text/plain": [
       "'This is my frst write operation\\n n the files. when they are very \\n  and much smaller we use the same\\n   size rope to tie them and, at \\n   that age, itï¿½s enough to hold them.\\nAs they grow up, they are conditioned \\nto believe\\nthey cannot break away. They \\n     believe the rope can still ho\\n     ld them, so they never try to \\nbreak free.This is my frst write\\n operation n the files. when they \\n are very young and much smaller we u\\n se the same size rope to tie them \\n and, at that age, itï¿½s enough to hold\\n  them. As they grow up, they are \\n  conditioned to believe they \\n  cannot break away. They believe\\n   the rope can still hold\\n      them, so they never try to break \\n      free.This is my frst write operation n the files. when they are very young and much smaller we use the same size rope to tie them and, at that age, it’s enough to hold them. As they grow up, they are conditioned to believe they cannot break away. They believe the rope can still hold them, so they never try to break free.'"
      ]
     },
     "execution_count": 7,
     "metadata": {},
     "output_type": "execute_result"
    }
   ],
   "source": [
    "data = open(\"test.txt\",\"r\")\n",
    "data.read()"
   ]
  },
  {
   "attachments": {},
   "cell_type": "markdown",
   "metadata": {},
   "source": [
    "Whenever we call data.read our pointer starts from start to end . So while calling data again it will already be at the end. So,we get ''"
   ]
  },
  {
   "cell_type": "code",
   "execution_count": 8,
   "metadata": {},
   "outputs": [
    {
     "data": {
      "text/plain": [
       "''"
      ]
     },
     "execution_count": 8,
     "metadata": {},
     "output_type": "execute_result"
    }
   ],
   "source": [
    "data.read()"
   ]
  },
  {
   "attachments": {},
   "cell_type": "markdown",
   "metadata": {},
   "source": [
    "Reseting our pointer/cursor back to start. \n",
    "* By data.seek(0)"
   ]
  },
  {
   "cell_type": "code",
   "execution_count": 9,
   "metadata": {},
   "outputs": [
    {
     "data": {
      "text/plain": [
       "0"
      ]
     },
     "execution_count": 9,
     "metadata": {},
     "output_type": "execute_result"
    }
   ],
   "source": [
    "data.seek(0)"
   ]
  },
  {
   "cell_type": "code",
   "execution_count": 10,
   "metadata": {},
   "outputs": [
    {
     "data": {
      "text/plain": [
       "'This is my frst write operation\\n n the files. when they are very \\n  and much smaller we use the same\\n   size rope to tie them and, at \\n   that age, itï¿½s enough to hold them.\\nAs they grow up, they are conditioned \\nto believe\\nthey cannot break away. They \\n     believe the rope can still ho\\n     ld them, so they never try to \\nbreak free.This is my frst write\\n operation n the files. when they \\n are very young and much smaller we u\\n se the same size rope to tie them \\n and, at that age, itï¿½s enough to hold\\n  them. As they grow up, they are \\n  conditioned to believe they \\n  cannot break away. They believe\\n   the rope can still hold\\n      them, so they never try to break \\n      free.This is my frst write operation n the files. when they are very young and much smaller we use the same size rope to tie them and, at that age, it’s enough to hold them. As they grow up, they are conditioned to believe they cannot break away. They believe the rope can still hold them, so they never try to break free.'"
      ]
     },
     "execution_count": 10,
     "metadata": {},
     "output_type": "execute_result"
    }
   ],
   "source": [
    "data.read()"
   ]
  },
  {
   "attachments": {},
   "cell_type": "markdown",
   "metadata": {},
   "source": [
    "To reset our cursor at position 100(or any num)"
   ]
  },
  {
   "cell_type": "code",
   "execution_count": 11,
   "metadata": {},
   "outputs": [
    {
     "data": {
      "text/plain": [
       "50"
      ]
     },
     "execution_count": 11,
     "metadata": {},
     "output_type": "execute_result"
    }
   ],
   "source": [
    "data.seek(50)"
   ]
  },
  {
   "cell_type": "code",
   "execution_count": 12,
   "metadata": {},
   "outputs": [
    {
     "data": {
      "text/plain": [
       "'n they are very \\n  and much smaller we use the same\\n   size rope to tie them and, at \\n   that age, itï¿½s enough to hold them.\\nAs they grow up, they are conditioned \\nto believe\\nthey cannot break away. They \\n     believe the rope can still ho\\n     ld them, so they never try to \\nbreak free.This is my frst write\\n operation n the files. when they \\n are very young and much smaller we u\\n se the same size rope to tie them \\n and, at that age, itï¿½s enough to hold\\n  them. As they grow up, they are \\n  conditioned to believe they \\n  cannot break away. They believe\\n   the rope can still hold\\n      them, so they never try to break \\n      free.This is my frst write operation n the files. when they are very young and much smaller we use the same size rope to tie them and, at that age, it’s enough to hold them. As they grow up, they are conditioned to believe they cannot break away. They believe the rope can still hold them, so they never try to break free.'"
      ]
     },
     "execution_count": 12,
     "metadata": {},
     "output_type": "execute_result"
    }
   ],
   "source": [
    "data.read()"
   ]
  },
  {
   "attachments": {},
   "cell_type": "markdown",
   "metadata": {},
   "source": [
    "Reading data by using for loop"
   ]
  },
  {
   "cell_type": "code",
   "execution_count": 45,
   "metadata": {},
   "outputs": [],
   "source": [
    "data1 = open('test.txt','r')"
   ]
  },
  {
   "cell_type": "code",
   "execution_count": 36,
   "metadata": {},
   "outputs": [],
   "source": [
    "for i in data1:\n",
    "    print(i)"
   ]
  },
  {
   "attachments": {},
   "cell_type": "markdown",
   "metadata": {},
   "source": [
    "Reading the size of file"
   ]
  },
  {
   "cell_type": "code",
   "execution_count": 3,
   "metadata": {},
   "outputs": [
    {
     "data": {
      "text/plain": [
       "332"
      ]
     },
     "execution_count": 3,
     "metadata": {},
     "output_type": "execute_result"
    }
   ],
   "source": [
    "import os \n",
    "os.path.getsize('test.txt')"
   ]
  },
  {
   "attachments": {},
   "cell_type": "markdown",
   "metadata": {},
   "source": [
    "Creating the copy of a file"
   ]
  },
  {
   "cell_type": "code",
   "execution_count": 27,
   "metadata": {},
   "outputs": [
    {
     "data": {
      "text/plain": [
       "'new_test.txt'"
      ]
     },
     "execution_count": 27,
     "metadata": {},
     "output_type": "execute_result"
    }
   ],
   "source": [
    "import shutil\n",
    "shutil.copy('test.txt','new_test.txt')"
   ]
  },
  {
   "attachments": {},
   "cell_type": "markdown",
   "metadata": {},
   "source": [
    "Deletion of files"
   ]
  },
  {
   "cell_type": "code",
   "execution_count": 7,
   "metadata": {},
   "outputs": [],
   "source": [
    "os.remove(\"new_test.txt\") "
   ]
  },
  {
   "attachments": {},
   "cell_type": "markdown",
   "metadata": {},
   "source": [
    "Opening file with other method"
   ]
  },
  {
   "cell_type": "code",
   "execution_count": 50,
   "metadata": {},
   "outputs": [
    {
     "name": "stdout",
     "output_type": "stream",
     "text": [
      "This is my frst write operation \n",
      " n the files. when they are very young and much smaller we use \n",
      " the same size rope to tie them and, at that age, it’s enough to hold them. As they grow up, they are \n",
      " conditioned to believe they cannot break away. They believe the \n",
      " rope can still hold them, so they never \n",
      " try to break free.\n"
     ]
    }
   ],
   "source": [
    "with open('test.txt','r') as f:\n",
    "    print(f.read())"
   ]
  },
  {
   "attachments": {},
   "cell_type": "markdown",
   "metadata": {},
   "source": [
    "Renaming of file"
   ]
  },
  {
   "cell_type": "code",
   "execution_count": 8,
   "metadata": {},
   "outputs": [],
   "source": [
    "os.rename(\"test.txt\",\"first_file.txt\") "
   ]
  },
  {
   "attachments": {},
   "cell_type": "markdown",
   "metadata": {},
   "source": [
    "Reading and writing files"
   ]
  },
  {
   "attachments": {},
   "cell_type": "markdown",
   "metadata": {},
   "source": [
    "JSON : another file format which is used massively across our industry for transfering data from one application to another application.\n",
    "* Even json tries to store data same as the dictionary"
   ]
  },
  {
   "cell_type": "code",
   "execution_count": 13,
   "metadata": {},
   "outputs": [],
   "source": [
    "#This is dict\n",
    "data = {\"name\":\"shivi\",\n",
    "        \"mail\" : \"abc@.in\",\n",
    "        \"mobile\":987654,\n",
    "        \"subject\":['ds','web']\n",
    "}"
   ]
  },
  {
   "attachments": {},
   "cell_type": "markdown",
   "metadata": {},
   "source": [
    "Storing the above data in json file\n",
    "* Install json module\n",
    "* Stores as key value pair"
   ]
  },
  {
   "cell_type": "code",
   "execution_count": 14,
   "metadata": {},
   "outputs": [],
   "source": [
    "import json\n",
    "with open('test1.json','w') as f:\n",
    "    json.dump(data,f)"
   ]
  },
  {
   "attachments": {},
   "cell_type": "markdown",
   "metadata": {},
   "source": [
    "To perform \n",
    "* read operation - load\n",
    "* write operation - dump"
   ]
  },
  {
   "cell_type": "code",
   "execution_count": 15,
   "metadata": {},
   "outputs": [],
   "source": [
    "with open('test1.json','r') as f:\n",
    "    data1 = json.load(f)"
   ]
  },
  {
   "cell_type": "code",
   "execution_count": 16,
   "metadata": {},
   "outputs": [
    {
     "data": {
      "text/plain": [
       "{'name': 'shivi',\n",
       " 'mail': 'abc@.in',\n",
       " 'mobile': 987654,\n",
       " 'subject': ['ds', 'web']}"
      ]
     },
     "execution_count": 16,
     "metadata": {},
     "output_type": "execute_result"
    }
   ],
   "source": [
    "data1"
   ]
  },
  {
   "cell_type": "code",
   "execution_count": 18,
   "metadata": {},
   "outputs": [
    {
     "data": {
      "text/plain": [
       "['ds', 'web']"
      ]
     },
     "execution_count": 18,
     "metadata": {},
     "output_type": "execute_result"
    }
   ],
   "source": [
    "data1['subject']"
   ]
  },
  {
   "cell_type": "code",
   "execution_count": 19,
   "metadata": {},
   "outputs": [
    {
     "data": {
      "text/plain": [
       "'web'"
      ]
     },
     "execution_count": 19,
     "metadata": {},
     "output_type": "execute_result"
    }
   ],
   "source": [
    "data1['subject'][1]"
   ]
  },
  {
   "attachments": {},
   "cell_type": "markdown",
   "metadata": {},
   "source": [
    "Performing operations on comma seperated data (csv file)\n",
    "* Comma seperated value\n",
    "* As list inside list inside list is seperated by commas \n",
    "* import csv\n",
    "* w is object\n",
    "* Frst list is conssidered as heading/names rest as data"
   ]
  },
  {
   "cell_type": "code",
   "execution_count": 31,
   "metadata": {},
   "outputs": [],
   "source": [
    "data = [['name','mail','number'],\n",
    "        ['shiv','shiv.in',98765],\n",
    "        ['bun','bun.in',63014],\n",
    "]"
   ]
  },
  {
   "cell_type": "code",
   "execution_count": 32,
   "metadata": {},
   "outputs": [],
   "source": [
    "import csv\n",
    "with open('test2.csv','w') as f:\n",
    "    w = csv.writer(f)"
   ]
  },
  {
   "attachments": {},
   "cell_type": "markdown",
   "metadata": {},
   "source": [
    "As it is list, Trying to iterate through it"
   ]
  },
  {
   "cell_type": "code",
   "execution_count": 33,
   "metadata": {},
   "outputs": [],
   "source": [
    "import csv\n",
    "with open('test2.csv','w') as f:\n",
    "    w = csv.writer(f)\n",
    "    for i in data:\n",
    "        w.writerow(i)"
   ]
  },
  {
   "cell_type": "code",
   "execution_count": 34,
   "metadata": {},
   "outputs": [
    {
     "name": "stdout",
     "output_type": "stream",
     "text": [
      "['name', 'mail', 'number']\n",
      "[]\n",
      "['shiv', 'shiv.in', '98765']\n",
      "[]\n",
      "['bun', 'bun.in', '63014']\n",
      "[]\n"
     ]
    }
   ],
   "source": [
    "with open(\"test2.csv\",'r') as f:\n",
    "    read = csv.reader(f) \n",
    "    for i in read:\n",
    "        print(i)"
   ]
  },
  {
   "attachments": {},
   "cell_type": "markdown",
   "metadata": {},
   "source": [
    "Binary : A kind of data can be available in form of audio,video,images\n",
    "* In general,binary data format is available in 0,1..."
   ]
  },
  {
   "attachments": {},
   "cell_type": "markdown",
   "metadata": {},
   "source": [
    "Operations on binary data\n",
    "* Mode : wb(write binary),rb(read binary)"
   ]
  },
  {
   "cell_type": "code",
   "execution_count": 36,
   "metadata": {},
   "outputs": [],
   "source": [
    "with open('test4.bin','wb') as f:\n",
    "    f.write(b\"\\x01\\x02\\x03\")"
   ]
  },
  {
   "attachments": {},
   "cell_type": "markdown",
   "metadata": {},
   "source": [
    "Output of the above will be the conversion of this byte/binary code to image"
   ]
  },
  {
   "cell_type": "code",
   "execution_count": 37,
   "metadata": {},
   "outputs": [
    {
     "name": "stdout",
     "output_type": "stream",
     "text": [
      "b'\\x01\\x02\\x03'\n"
     ]
    }
   ],
   "source": [
    "with open(\"test4.bin\",\"rb\") as f:\n",
    "    print(f.read())"
   ]
  },
  {
   "attachments": {},
   "cell_type": "markdown",
   "metadata": {},
   "source": [
    "Buffer read & write operation in files\n",
    "* File size is very big & we want to read the data that is in bytes at a tym is not possible \n",
    "* we try to read out all these files in chunks(small pieces/small bits) of this entire file\n",
    "*  We have close it also by using flush here\n",
    "* with the help of this we are able to Achieve data writing operation in chunks"
   ]
  },
  {
   "cell_type": "code",
   "execution_count": 2,
   "metadata": {},
   "outputs": [],
   "source": [
    "import io\n",
    "#io- input - output"
   ]
  },
  {
   "cell_type": "code",
   "execution_count": 13,
   "metadata": {},
   "outputs": [],
   "source": [
    "with open('test3.txt','wb') as f:\n",
    "    file = io.BufferedWriter(f)\n",
    "    file.write(b\"This is my buffer write \\n When someone you love betrays you, you experience a different kind of heartbreak one that feels almost impossible to recover from and the broken trust quotes\\n\") \n",
    "    file.write(b\"This is my second line \\n Once someone shows their true colors by breaking your heart and they lose that trust that made your relationship or friendship what it was, it is not up to them whether or not things can be the same again. It is your decision to ultimately decide if you want to keep them in your life.\")\n",
    "    file.flush()"
   ]
  },
  {
   "cell_type": "code",
   "execution_count": 16,
   "metadata": {},
   "outputs": [
    {
     "name": "stdout",
     "output_type": "stream",
     "text": [
      "b'This is my buffer write \\n When someone you love betrays you, you experience a different kind of heartbreak one that feels almost impossible to recover from and the broken trust quotes\\nThis is my second line \\n Once someone shows their true colors by breaking your heart and they lose that trust that made your relationship or friendship what it was, it is not up to them whether or not things can be the same again. It is your decision to ultimately decide if you want to keep them in your life.'\n"
     ]
    }
   ],
   "source": [
    "with open(\"test3.txt\",'rb') as f:\n",
    "    file = io.BufferedReader(f)\n",
    "    data = file.read()\n",
    "    print(data)"
   ]
  },
  {
   "attachments": {},
   "cell_type": "markdown",
   "metadata": {},
   "source": [
    "To read limited characters by specifying in read(n)"
   ]
  },
  {
   "cell_type": "code",
   "execution_count": 17,
   "metadata": {},
   "outputs": [
    {
     "name": "stdout",
     "output_type": "stream",
     "text": [
      "b'This is my'\n"
     ]
    }
   ],
   "source": [
    "with open(\"test3.txt\",'rb') as f:\n",
    "    file = io.BufferedReader(f)\n",
    "    data = file.read(10)\n",
    "    print(data)"
   ]
  },
  {
   "attachments": {},
   "cell_type": "markdown",
   "metadata": {},
   "source": [
    "Logging and Debugging\n",
    "* There can occur any error or bug\n",
    "* We have to look & fix it\n",
    "* In general in a production grid code we cannot use print statement bcoz it tries to print on console \n",
    "* Once we shut does it will be gone \n",
    "* So,we would like to store it permanently at some place where we can log each & every information\n",
    "* import logging module\n",
    "* we have to create log to find each and every info for permanent storage"
   ]
  },
  {
   "cell_type": "code",
   "execution_count": 18,
   "metadata": {},
   "outputs": [
    {
     "name": "stdout",
     "output_type": "stream",
     "text": [
      "This is my print statement\n"
     ]
    }
   ],
   "source": [
    "print(\"This is my print statement\")"
   ]
  },
  {
   "cell_type": "code",
   "execution_count": 21,
   "metadata": {},
   "outputs": [],
   "source": [
    "import logging\n",
    "logging.basicConfig(filename=\"test5.log\", level=logging.INFO)"
   ]
  },
  {
   "attachments": {},
   "cell_type": "markdown",
   "metadata": {},
   "source": [
    "Storing inside the file : It gives info tag in the file,as we are trying to log these thing as info. instead we can even log as error,debug,etc (log labels)"
   ]
  },
  {
   "cell_type": "code",
   "execution_count": 2,
   "metadata": {},
   "outputs": [],
   "source": [
    "import logging\n",
    "logging.basicConfig(filename=\"test5.log\", level=logging.INFO)\n",
    "logging.info(\"This is my line of execution\")\n",
    "logging.error(\"This is my error\")\n",
    "logging.critical(\"This is my critical\")\n"
   ]
  },
  {
   "attachments": {},
   "cell_type": "markdown",
   "metadata": {},
   "source": [
    "How login works in terms of heirarchy(any login will follow this)\n",
    "1. NOSET : It might be removed from latest version\n",
    "2. DEBUG\n",
    "3. INFO : It will be able to log anything below it(warning,error,critical) and itself also \n",
    "4. WARNING\n",
    "5. ERROR\n",
    "6. CRITICAL"
   ]
  },
  {
   "cell_type": "code",
   "execution_count": 3,
   "metadata": {},
   "outputs": [],
   "source": [
    "import logging\n",
    "logging.basicConfig(filename=\"test5.log\", level=logging.INFO)\n",
    "logging.info(\"This is my line of execution\")\n",
    "logging.error(\"This is my error\")\n",
    "logging.critical(\"This is my critical\")\n",
    "logging.warning(\"This is my warning\")\n",
    "logging.debug(\"This is my info related to debug\")\n",
    "# It will be able to log anything below it(warning,error,critical) and itself also but not above(noset,debug)"
   ]
  },
  {
   "attachments": {},
   "cell_type": "markdown",
   "metadata": {},
   "source": [
    "To stop logging into this particular file"
   ]
  },
  {
   "cell_type": "code",
   "execution_count": 4,
   "metadata": {},
   "outputs": [],
   "source": [
    "logging.shutdown()"
   ]
  },
  {
   "attachments": {},
   "cell_type": "markdown",
   "metadata": {},
   "source": [
    "We end up recieving many debug issues. So it is always better to store every info into file"
   ]
  },
  {
   "attachments": {},
   "cell_type": "markdown",
   "metadata": {},
   "source": [
    "Creating new logging info"
   ]
  },
  {
   "attachments": {},
   "cell_type": "markdown",
   "metadata": {},
   "source": [
    "Format : with this we can understand at what tym the log has occured\n",
    "* If we are looking for time = asctime in s(string) format\n",
    "* If we are looking for message = message in s(string) format"
   ]
  },
  {
   "cell_type": "code",
   "execution_count": 3,
   "metadata": {},
   "outputs": [],
   "source": [
    "import logging\n",
    "logging.basicConfig(filename=\"test6.log\",level=logging.DEBUG , format = '%(asctime)s %(message)s')\n",
    "logging.info(\"This is my info\")\n",
    "logging.debug(\"This is my debug\")\n",
    "logging.warning(\"This is my warning\")"
   ]
  },
  {
   "cell_type": "code",
   "execution_count": 4,
   "metadata": {},
   "outputs": [],
   "source": [
    "logging.shutdown()"
   ]
  },
  {
   "attachments": {},
   "cell_type": "markdown",
   "metadata": {},
   "source": [
    "if we have to generate from which system its coming,log label,etc"
   ]
  },
  {
   "attachments": {},
   "cell_type": "markdown",
   "metadata": {},
   "source": [
    "it's better to avoid debug bcoz it tries to generaate alot of things"
   ]
  },
  {
   "cell_type": "code",
   "execution_count": 25,
   "metadata": {},
   "outputs": [],
   "source": [
    "import logging\n",
    "logging.basicConfig(filename=\"test7.log\",level=logging.DEBUG,format = '%(asctime)s %(message)s %(name)s %(levelname)s')\n",
    "logging.warning(\"This is my warning\")\n",
    "logging.info(\"This is my info\")\n",
    "logging.debug(\"This is debug\")"
   ]
  },
  {
   "cell_type": "code",
   "execution_count": 24,
   "metadata": {},
   "outputs": [],
   "source": [
    "logging.shutdown()"
   ]
  },
  {
   "attachments": {},
   "cell_type": "markdown",
   "metadata": {},
   "source": [
    "Implementing Logging"
   ]
  },
  {
   "cell_type": "code",
   "execution_count": 3,
   "metadata": {},
   "outputs": [],
   "source": [
    "import logging\n",
    "logging.basicConfig(filename=\"test8.log\",level=logging.DEBUG , format = '%(asctime)s %(message)s')\n",
    "logging.info(\"This is my info\")\n",
    "logging.debug(\"This is my debug\")\n",
    "logging.warning(\"This is my warning\")"
   ]
  },
  {
   "cell_type": "code",
   "execution_count": 4,
   "metadata": {},
   "outputs": [],
   "source": [
    "l = [1,2,3,[4,5,5],6,\"shiv\",\"shivani\"]\n",
    "# crearing two lists\n",
    "l_int = []\n",
    "l_str=[]\n",
    "for i in l:\n",
    "    logging.info(\"this is start of my frst for loop{}\".format(l))\n",
    "    logging.info(\"this is the value of i am loging{}\".format(i))\n",
    "    if(type(i)==int):\n",
    "        l_int.append(i)\n",
    "    elif(type(i)==str):\n",
    "        l_str.append(i)\n",
    "    else:\n",
    "        for j in i:\n",
    "            logging.info(\"logging my j {j} and i is {i}\".format(i =i,j=j))\n",
    "            if(type(j)==int):\n",
    "                l_int.append(j)\n",
    "            elif(type(j)==str):\n",
    "                l_str.append(j)\n",
    "logging.info(\"This is final result with all \")     "
   ]
  },
  {
   "cell_type": "code",
   "execution_count": 4,
   "metadata": {},
   "outputs": [
    {
     "data": {
      "text/plain": [
       "['shiv', 'shivani']"
      ]
     },
     "execution_count": 4,
     "metadata": {},
     "output_type": "execute_result"
    }
   ],
   "source": [
    "l_str"
   ]
  },
  {
   "cell_type": "code",
   "execution_count": 5,
   "metadata": {},
   "outputs": [
    {
     "data": {
      "text/plain": [
       "[1, 2, 3, 4, 5, 5, 6]"
      ]
     },
     "execution_count": 5,
     "metadata": {},
     "output_type": "execute_result"
    }
   ],
   "source": [
    "l_int"
   ]
  },
  {
   "attachments": {},
   "cell_type": "markdown",
   "metadata": {},
   "source": [
    "If program is going to crash,we get to know what tym it was crashed, and as the file is there in our system for long tym\n",
    "* Whenever we are writing protection related code try to avoid print statement as it always tries to print on the console.\n",
    "* So we need permanent storage, to store all of these info for long tym which can be achieved by logging method\n",
    "* Try to make it as an habit"
   ]
  },
  {
   "cell_type": "code",
   "execution_count": 5,
   "metadata": {},
   "outputs": [],
   "source": [
    "logging.shutdown()"
   ]
  },
  {
   "cell_type": "code",
   "execution_count": null,
   "metadata": {},
   "outputs": [],
   "source": []
  }
 ],
 "metadata": {
  "kernelspec": {
   "display_name": "Python 3",
   "language": "python",
   "name": "python3"
  },
  "language_info": {
   "codemirror_mode": {
    "name": "ipython",
    "version": 3
   },
   "file_extension": ".py",
   "mimetype": "text/x-python",
   "name": "python",
   "nbconvert_exporter": "python",
   "pygments_lexer": "ipython3",
   "version": "3.10.6"
  },
  "orig_nbformat": 4
 },
 "nbformat": 4,
 "nbformat_minor": 2
}
