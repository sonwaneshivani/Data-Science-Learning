{
 "cells": [
  {
   "attachments": {},
   "cell_type": "markdown",
   "metadata": {},
   "source": [
    "### Passing data through form\n",
    "Ex: Gmail sign in- data will not  be visible in this case in url. Bcoz it behaves as form. We are going to pass data through body\n",
    "* By default flask is going to pass data through get method. \n",
    "* \n",
    "### Passing data through form json"
   ]
  },
  {
   "attachments": {},
   "cell_type": "markdown",
   "metadata": {},
   "source": [
    "* Realtime EXample of get: google search\n",
    "* Realtime EXample of get: gmail"
   ]
  },
  {
   "attachments": {},
   "cell_type": "markdown",
   "metadata": {},
   "source": [
    "## Calci\n",
    "* User will be able to see html code's application/interface and we have to take info from html page running\n",
    "* See at the calci folder"
   ]
  },
  {
   "attachments": {},
   "cell_type": "markdown",
   "metadata": {},
   "source": [
    "#### API TESTING through postman\n",
    "* If we want to test our application through other application(outside applica/another system and oursystem communicating through API).- Postman API testing(for any kind of testing)\n",
    "* Download it(only once)\n",
    "* Steps : 1. Home page>create new(new)> http request type\n",
    "2. Select func type(Get/Post)\n",
    "3. Url (followed by the name of func. Ex:/math or posrman_action )\n",
    "* By url it reaches to system & with name to func\n",
    "4. Send data in json through Body>raw>text as JSON\n",
    "5. Pass data \n",
    "* According to our func , we have to first pass{'operation':'add',\n",
    "'num1':12,\n",
    "'num2':4}\n",
    "change ' \n",
    "* single quotes to double quotes as it is not going to work.\n",
    "6. And then send"
   ]
  },
  {
   "cell_type": "markdown",
   "metadata": {},
   "source": []
  }
 ],
 "metadata": {
  "language_info": {
   "name": "python"
  },
  "orig_nbformat": 4
 },
 "nbformat": 4,
 "nbformat_minor": 2
}
