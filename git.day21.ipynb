{
 "cells": [
  {
   "attachments": {},
   "cell_type": "markdown",
   "metadata": {},
   "source": [
    "## Github Repository "
   ]
  },
  {
   "attachments": {},
   "cell_type": "markdown",
   "metadata": {},
   "source": [
    "### Copying(Pull) code from github public repository\n",
    "1. In PW lab\n",
    "* Create a lab(flask)\n",
    "* Click yes on you want clone any github repository & proceed & paste the copied code url(open & press code inside the github code section)\n",
    "* Whatever written there is copied/loaded as it is inside or lab \n",
    "\n",
    "### Command Clonning\n",
    "* git clone (paste the copied url in vs code)\n",
    "* It will load every thing\n",
    "\n",
    "### Pushing code into github repository through code from ide\n",
    "* Create new repository(public/private) \n",
    "* name it\n",
    "* press on Create repository\n",
    "* It Gives us basic command by which we can push our directory. Follow the command\n",
    "* Note : In btwn If we get (fatal: remote origin already exists) then add - 1. git remote remove origin (and)\n",
    "2. git remote add origin (new_link_where_we_are_going_to_add)"
   ]
  },
  {
   "cell_type": "code",
   "execution_count": null,
   "metadata": {},
   "outputs": [],
   "source": []
  }
 ],
 "metadata": {
  "kernelspec": {
   "display_name": "Python 3",
   "language": "python",
   "name": "python3"
  },
  "language_info": {
   "codemirror_mode": {
    "name": "ipython",
    "version": 3
   },
   "file_extension": ".py",
   "mimetype": "text/x-python",
   "name": "python",
   "nbconvert_exporter": "python",
   "pygments_lexer": "ipython3",
   "version": "3.10.6"
  },
  "orig_nbformat": 4
 },
 "nbformat": 4,
 "nbformat_minor": 2
}
