{
 "cells": [
  {
   "attachments": {},
   "cell_type": "markdown",
   "metadata": {},
   "source": [
    "Threading : \n",
    "* Suppose inside computer i have quad core processor(p1,p2,p3,p4). If iam going to run the program p1 execute in p1 core\n",
    "* If we want to execute a program 4 tyms in same core\n",
    "* Concept of threading tries to create multiple threads or it will try to create multiple processors or subprocessors in the same core and in consequitive order it is going to execute. One by one program parrtially. \n",
    "* A single core tries to occupy all the resources & then u will be able to execute a program"
   ]
  },
  {
   "cell_type": "code",
   "execution_count": 15,
   "metadata": {},
   "outputs": [],
   "source": [
    "import threading\n",
    "def test(id):\n",
    "    print(\"this is my test id %d\"%id)"
   ]
  },
  {
   "cell_type": "code",
   "execution_count": 3,
   "metadata": {},
   "outputs": [
    {
     "name": "stdout",
     "output_type": "stream",
     "text": [
      "this is my test id 10\n"
     ]
    }
   ],
   "source": [
    "test(10)"
   ]
  },
  {
   "cell_type": "code",
   "execution_count": 4,
   "metadata": {},
   "outputs": [
    {
     "name": "stdout",
     "output_type": "stream",
     "text": [
      "this is my test id 1\n"
     ]
    }
   ],
   "source": [
    "test(1)"
   ]
  },
  {
   "attachments": {},
   "cell_type": "markdown",
   "metadata": {},
   "source": [
    "What if we want to call all the funcs simultaneously in automatic order\n",
    "* We have threading"
   ]
  },
  {
   "cell_type": "code",
   "execution_count": 7,
   "metadata": {},
   "outputs": [],
   "source": [
    "thread = [threading.Thread(target = test,args = (i,)) for i in [10,1,3]]"
   ]
  },
  {
   "cell_type": "code",
   "execution_count": 8,
   "metadata": {},
   "outputs": [
    {
     "data": {
      "text/plain": [
       "[<Thread(Thread-3 (test), initial)>,\n",
       " <Thread(Thread-4 (test), initial)>,\n",
       " <Thread(Thread-5 (test), initial)>]"
      ]
     },
     "execution_count": 8,
     "metadata": {},
     "output_type": "execute_result"
    }
   ],
   "source": [
    "thread"
   ]
  },
  {
   "attachments": {},
   "cell_type": "markdown",
   "metadata": {},
   "source": [
    "All programs are executed in single core"
   ]
  },
  {
   "cell_type": "code",
   "execution_count": 9,
   "metadata": {},
   "outputs": [
    {
     "name": "stdout",
     "output_type": "stream",
     "text": [
      "this is my test id 10\n",
      "this is my test id 1\n",
      "this is my test id 3\n"
     ]
    }
   ],
   "source": [
    "for t in thread:\n",
    "    t.start()"
   ]
  },
  {
   "attachments": {},
   "cell_type": "markdown",
   "metadata": {},
   "source": [
    "I have 3 links with data stored. Someone asking me write a program to fetch from all of these and store them in our local computer we need external libraries"
   ]
  },
  {
   "attachments": {},
   "cell_type": "markdown",
   "metadata": {},
   "source": [
    "This urllib requests for data and gives it to me\n",
    "* retrieve - to store wherever we want"
   ]
  },
  {
   "cell_type": "code",
   "execution_count": 4,
   "metadata": {},
   "outputs": [],
   "source": [
    "import urllib.request\n",
    "\n",
    "def file_download(url , fileName):\n",
    "    urllib.request.urlretrieve(url,fileName)\n"
   ]
  },
  {
   "attachments": {},
   "cell_type": "markdown",
   "metadata": {},
   "source": [
    "Calling func 3 times but instead we can use thread for efficiency"
   ]
  },
  {
   "cell_type": "code",
   "execution_count": 5,
   "metadata": {},
   "outputs": [],
   "source": [
    "file_download('https://raw.githubusercontent.com/itsfoss/text-files/master/agatha.txt','test10.txt')"
   ]
  },
  {
   "cell_type": "code",
   "execution_count": 24,
   "metadata": {},
   "outputs": [],
   "source": [
    "url_list=['https://raw.githubusercontent.com/itsfoss/text-files/master/agatha.txt','https://raw.githubusercontent.com/itsfoss/text-files/master/sherlock.txt','https://raw.githubusercontent.com/itsfoss/text-files/master/sample_log_file.txt']"
   ]
  },
  {
   "cell_type": "code",
   "execution_count": 7,
   "metadata": {},
   "outputs": [
    {
     "data": {
      "text/plain": [
       "['https://raw.githubusercontent.com/itsfoss/text-files/master/agatha.txt',\n",
       " 'test10.txt',\n",
       " 'https://raw.githubusercontent.com/itsfoss/text-files/master/sherlock.txt',\n",
       " 'test10.txt',\n",
       " 'https://raw.githubusercontent.com/itsfoss/text-files/master/sample_log_file.txt',\n",
       " 'test10.txt']"
      ]
     },
     "execution_count": 7,
     "metadata": {},
     "output_type": "execute_result"
    }
   ],
   "source": [
    "url_list"
   ]
  },
  {
   "cell_type": "code",
   "execution_count": 8,
   "metadata": {},
   "outputs": [],
   "source": [
    "data_file_list = ['data1.txt','data2.txt','data3.txt']"
   ]
  },
  {
   "cell_type": "code",
   "execution_count": 47,
   "metadata": {},
   "outputs": [],
   "source": [
    "thread1 = [threading.Thread(target = file_download,args=(url_list[i],data_file_list[i])) for i in range(len(url_list))]"
   ]
  },
  {
   "cell_type": "code",
   "execution_count": 25,
   "metadata": {},
   "outputs": [
    {
     "data": {
      "text/plain": [
       "3"
      ]
     },
     "execution_count": 25,
     "metadata": {},
     "output_type": "execute_result"
    }
   ],
   "source": [
    "len(url_list)"
   ]
  },
  {
   "attachments": {},
   "cell_type": "markdown",
   "metadata": {},
   "source": [
    "Thread  automatically creates 3 instances of my function with dffrnt input\n",
    "* Optimize code"
   ]
  },
  {
   "cell_type": "code",
   "execution_count": 48,
   "metadata": {},
   "outputs": [],
   "source": [
    "for t in thread1:\n",
    "    t.start()"
   ]
  },
  {
   "cell_type": "code",
   "execution_count": 29,
   "metadata": {},
   "outputs": [
    {
     "data": {
      "text/plain": [
       "[<Thread(Thread-21 (file_download), stopped 16904)>,\n",
       " <Thread(Thread-22 (file_download), stopped 10696)>,\n",
       " <Thread(Thread-23 (file_download), stopped 30392)>]"
      ]
     },
     "execution_count": 29,
     "metadata": {},
     "output_type": "execute_result"
    }
   ],
   "source": [
    "thread1"
   ]
  },
  {
   "attachments": {},
   "cell_type": "markdown",
   "metadata": {},
   "source": [
    "Sleep : delays for some time"
   ]
  },
  {
   "cell_type": "code",
   "execution_count": 30,
   "metadata": {},
   "outputs": [],
   "source": [
    "import time"
   ]
  },
  {
   "cell_type": "code",
   "execution_count": 41,
   "metadata": {},
   "outputs": [],
   "source": [
    "def test2(x):\n",
    "    for i in range(10):\n",
    "        print(\"test1 print the value of x %d and print value of i %d\"%(x,i))\n",
    "        time.sleep(2)"
   ]
  },
  {
   "cell_type": "code",
   "execution_count": 42,
   "metadata": {},
   "outputs": [
    {
     "name": "stdout",
     "output_type": "stream",
     "text": [
      "test1 print the value of x 10 and print value of i 0\n",
      "test1 print the value of x 10 and print value of i 1\n",
      "test1 print the value of x 10 and print value of i 2\n",
      "test1 print the value of x 10 and print value of i 3\n",
      "test1 print the value of x 10 and print value of i 4\n",
      "test1 print the value of x 10 and print value of i 5\n",
      "test1 print the value of x 10 and print value of i 6\n",
      "test1 print the value of x 10 and print value of i 7\n",
      "test1 print the value of x 10 and print value of i 8\n",
      "test1 print the value of x 10 and print value of i 9\n"
     ]
    }
   ],
   "source": [
    "test2(10)"
   ]
  },
  {
   "cell_type": "code",
   "execution_count": 34,
   "metadata": {},
   "outputs": [
    {
     "name": "stdout",
     "output_type": "stream",
     "text": [
      "this is my test id 2\n"
     ]
    }
   ],
   "source": [
    "test(2)"
   ]
  },
  {
   "attachments": {},
   "cell_type": "markdown",
   "metadata": {},
   "source": [
    "Sleeping wrto input given."
   ]
  },
  {
   "cell_type": "code",
   "execution_count": 43,
   "metadata": {},
   "outputs": [],
   "source": [
    "thread2 = [threading.Thread(target=test2,args=(i,)) for i in [100,10,20,5]]"
   ]
  },
  {
   "cell_type": "code",
   "execution_count": 44,
   "metadata": {},
   "outputs": [
    {
     "data": {
      "text/plain": [
       "[<Thread(Thread-24 (test2), initial)>,\n",
       " <Thread(Thread-25 (test2), initial)>,\n",
       " <Thread(Thread-26 (test2), initial)>,\n",
       " <Thread(Thread-27 (test2), initial)>]"
      ]
     },
     "execution_count": 44,
     "metadata": {},
     "output_type": "execute_result"
    }
   ],
   "source": [
    "thread2"
   ]
  },
  {
   "attachments": {},
   "cell_type": "markdown",
   "metadata": {},
   "source": [
    "Here it is not trying to complete the entire program once. But it is trying to execute everything once & till then others can avail the opportunity/occupy the resources(as they are in same core). One by one all the threads are trying to utilize. by the time it is sleeping it calls same func with another input"
   ]
  },
  {
   "cell_type": "code",
   "execution_count": 46,
   "metadata": {},
   "outputs": [
    {
     "name": "stdout",
     "output_type": "stream",
     "text": [
      "test1 print the value of x 100 and print value of i 0\n",
      "test1 print the value of x 10 and print value of i 0\n",
      "test1 print the value of x 20 and print value of i 0\n",
      "test1 print the value of x 5 and print value of i 0\n"
     ]
    },
    {
     "name": "stdout",
     "output_type": "stream",
     "text": [
      "test1 print the value of x 5 and print value of i 1test1 print the value of x 10 and print value of i 1\n",
      "test1 print the value of x 100 and print value of i 1\n",
      "test1 print the value of x 20 and print value of i 1\n",
      "\n",
      "test1 print the value of x 10 and print value of i 2test1 print the value of x 20 and print value of i 2\n",
      "test1 print the value of x 5 and print value of i 2\n",
      "test1 print the value of x 100 and print value of i 2\n",
      "\n",
      "test1 print the value of x 10 and print value of i 3\n",
      "test1 print the value of x 5 and print value of i 3\n",
      "test1 print the value of x 20 and print value of i 3\n",
      "test1 print the value of x 100 and print value of i 3\n",
      "test1 print the value of x 100 and print value of i 4test1 print the value of x 20 and print value of i 4\n",
      "test1 print the value of x 5 and print value of i 4\n",
      "test1 print the value of x 10 and print value of i 4\n",
      "\n",
      "test1 print the value of x 10 and print value of i 5test1 print the value of x 100 and print value of i 5\n",
      "test1 print the value of x 5 and print value of i 5\n",
      "test1 print the value of x 20 and print value of i 5\n",
      "\n",
      "test1 print the value of x 20 and print value of i 6test1 print the value of x 10 and print value of i 6\n",
      "test1 print the value of x 5 and print value of i 6\n",
      "test1 print the value of x 100 and print value of i 6\n",
      "\n",
      "test1 print the value of x 5 and print value of i 7test1 print the value of x 20 and print value of i 7\n",
      "\n",
      "test1 print the value of x 100 and print value of i 7\n",
      "test1 print the value of x 10 and print value of i 7\n",
      "test1 print the value of x 10 and print value of i 8\n",
      "test1 print the value of x 100 and print value of i 8\n",
      "test1 print the value of x 5 and print value of i 8\n",
      "test1 print the value of x 20 and print value of i 8\n",
      "test1 print the value of x 5 and print value of i 9test1 print the value of x 100 and print value of i 9\n",
      "test1 print the value of x 20 and print value of i 9\n",
      "\n",
      "test1 print the value of x 10 and print value of i 9\n"
     ]
    }
   ],
   "source": [
    "for t in thread2:\n",
    "    t.start()"
   ]
  },
  {
   "attachments": {},
   "cell_type": "markdown",
   "metadata": {},
   "source": [
    "Without Sleep :  It completes 1 complete then picks another one"
   ]
  },
  {
   "cell_type": "code",
   "execution_count": 49,
   "metadata": {},
   "outputs": [],
   "source": [
    "def test2(x):\n",
    "    for i in range(10):\n",
    "        print(\"test1 print the value of x %d and print value of i %d\"%(x,i))\n",
    "        #time.sleep(2)"
   ]
  },
  {
   "cell_type": "code",
   "execution_count": 53,
   "metadata": {},
   "outputs": [],
   "source": [
    "thread3 = [threading.Thread(target=test2,args=(i,)) for i in [100,10,20,5]]"
   ]
  },
  {
   "cell_type": "code",
   "execution_count": 54,
   "metadata": {},
   "outputs": [
    {
     "name": "stdout",
     "output_type": "stream",
     "text": [
      "test1 print the value of x 100 and print value of i 0\n",
      "test1 print the value of x 100 and print value of i 1\n",
      "test1 print the value of x 100 and print value of i 2\n",
      "test1 print the value of x 100 and print value of i 3\n",
      "test1 print the value of x 100 and print value of i 4\n",
      "test1 print the value of x 100 and print value of i 5\n",
      "test1 print the value of x 100 and print value of i 6\n",
      "test1 print the value of x 100 and print value of i 7\n",
      "test1 print the value of x 100 and print value of i 8\n",
      "test1 print the value of x 100 and print value of i 9\n",
      "test1 print the value of x 10 and print value of i 0\n",
      "test1 print the value of x 10 and print value of i 1\n",
      "test1 print the value of x 10 and print value of i 2\n",
      "test1 print the value of x 10 and print value of i 3\n",
      "test1 print the value of x 10 and print value of i 4\n",
      "test1 print the value of x 10 and print value of i 5\n",
      "test1 print the value of x 10 and print value of i 6\n",
      "test1 print the value of x 10 and print value of i 7\n",
      "test1 print the value of x 10 and print value of i 8\n",
      "test1 print the value of x 10 and print value of i 9\n",
      "test1 print the value of x 20 and print value of i 0\n",
      "test1 print the value of x 20 and print value of i 1\n",
      "test1 print the value of x 20 and print value of i 2\n",
      "test1 print the value of x 20 and print value of i 3\n",
      "test1 print the value of x 20 and print value of i 4\n",
      "test1 print the value of x 20 and print value of i 5\n",
      "test1 print the value of x 20 and print value of i 6\n",
      "test1 print the value of x 20 and print value of i 7\n",
      "test1 print the value of x 20 and print value of i 8\n",
      "test1 print the value of x 20 and print value of i 9\n",
      "test1 print the value of x 5 and print value of i 0\n",
      "test1 print the value of x 5 and print value of i 1\n",
      "test1 print the value of x 5 and print value of i 2\n",
      "test1 print the value of x 5 and print value of i 3\n",
      "test1 print the value of x 5 and print value of i 4\n",
      "test1 print the value of x 5 and print value of i 5\n",
      "test1 print the value of x 5 and print value of i 6\n",
      "test1 print the value of x 5 and print value of i 7\n",
      "test1 print the value of x 5 and print value of i 8\n",
      "test1 print the value of x 5 and print value of i 9\n"
     ]
    }
   ],
   "source": [
    "for t in thread3:\n",
    "    t.start()"
   ]
  },
  {
   "attachments": {},
   "cell_type": "markdown",
   "metadata": {},
   "source": [
    "Call funcs multiple times & all funcs must update value one by one\n",
    "* Global - makes accessible everywhere\n",
    "- every one can modify global"
   ]
  },
  {
   "cell_type": "code",
   "execution_count": 61,
   "metadata": {},
   "outputs": [],
   "source": [
    "shared_var = 0\n",
    "lock_var = threading.Lock()\n",
    "def test3(x):\n",
    "   global shared_var\n",
    "   with lock_var:\n",
    "      shared_var = shared_var + 1\n",
    "      print(\"valur of x %d and value of shared_var %d\"%(x,shared_var))"
   ]
  },
  {
   "cell_type": "code",
   "execution_count": 62,
   "metadata": {},
   "outputs": [
    {
     "name": "stdout",
     "output_type": "stream",
     "text": [
      "valur of x 1 and value of shared_var 1\n"
     ]
    }
   ],
   "source": [
    "test3(1)"
   ]
  },
  {
   "cell_type": "code",
   "execution_count": 64,
   "metadata": {},
   "outputs": [
    {
     "name": "stdout",
     "output_type": "stream",
     "text": [
      "valur of x 1 and value of shared_var 3\n"
     ]
    }
   ],
   "source": [
    "test3(1)"
   ]
  },
  {
   "cell_type": "code",
   "execution_count": 65,
   "metadata": {},
   "outputs": [
    {
     "name": "stdout",
     "output_type": "stream",
     "text": [
      "valur of x 2 and value of shared_var 4\n"
     ]
    }
   ],
   "source": [
    "test3(2)"
   ]
  },
  {
   "attachments": {},
   "cell_type": "markdown",
   "metadata": {},
   "source": [
    "Calling this program simultaneously & update"
   ]
  },
  {
   "cell_type": "code",
   "execution_count": 78,
   "metadata": {},
   "outputs": [],
   "source": [
    "shared_var = 0\n",
    "lock_var = threading.Lock()\n",
    "def test4(x):\n",
    "   global shared_var\n",
    "   with lock_var:\n",
    "      shared_var = shared_var + 1\n",
    "      print(\"valur of x %d and value of shared_var %d\"%(x,shared_var))\n",
    "      time.sleep(1)\n",
    "\n",
    "thread5 =  [threading.Thread(target=test4, args=(i,)) for i in [1,2,3,4,4,5]]"
   ]
  },
  {
   "attachments": {},
   "cell_type": "markdown",
   "metadata": {},
   "source": [
    "Here Lock makes when one is using no one is able to use it. Although it's going for sleep"
   ]
  },
  {
   "attachments": {},
   "cell_type": "markdown",
   "metadata": {},
   "source": [
    "Using shared resources for multiple"
   ]
  },
  {
   "cell_type": "code",
   "execution_count": 79,
   "metadata": {},
   "outputs": [
    {
     "name": "stdout",
     "output_type": "stream",
     "text": [
      "valur of x 1 and value of shared_var 1\n"
     ]
    },
    {
     "name": "stdout",
     "output_type": "stream",
     "text": [
      "valur of x 2 and value of shared_var 2\n",
      "valur of x 3 and value of shared_var 3\n",
      "valur of x 4 and value of shared_var 4\n",
      "valur of x 4 and value of shared_var 5\n",
      "valur of x 5 and value of shared_var 6\n"
     ]
    }
   ],
   "source": [
    "for t in thread5:\n",
    "    t.start()"
   ]
  },
  {
   "cell_type": "code",
   "execution_count": null,
   "metadata": {},
   "outputs": [],
   "source": []
  }
 ],
 "metadata": {
  "kernelspec": {
   "display_name": "Python 3",
   "language": "python",
   "name": "python3"
  },
  "language_info": {
   "codemirror_mode": {
    "name": "ipython",
    "version": 3
   },
   "file_extension": ".py",
   "mimetype": "text/x-python",
   "name": "python",
   "nbconvert_exporter": "python",
   "pygments_lexer": "ipython3",
   "version": "3.10.6"
  },
  "orig_nbformat": 4
 },
 "nbformat": 4,
 "nbformat_minor": 2
}
