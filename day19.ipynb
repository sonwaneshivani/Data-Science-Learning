{
 "cells": [
  {
   "attachments": {},
   "cell_type": "markdown",
   "metadata": {},
   "source": [
    "### API : \n",
    "Without API we cannot build  any sort of application & cannot do deployment.\n",
    "* Ex: we are using GPay, and trying to do transaction for my frnd as gpay doesn't store any type od money, as it is not a banking system but it is an application. It doesn't do any transaction unless and until it is connected to our bank. So,we never we try to send money it always try to connect with the bank application,it will ask whether 100 rs is available in our account or not. Someone might have written a function/code over here for the banking system to check the balance. It also checks whether it's genuine or not. Do we have an account or not,balance is available or not,etc. If balance is available it asks pin, & call some sort of transaction func and if return true then it will do transaction.\n",
    "* Durig the process on every click it tries to verify with the bank. So, gpay is the product of google(alphabet) and bank (icici) is product of something else. both are alligned to dffrnt dffrnt systems.\n",
    "* In bank we might have used main frame, in gpay we used Reactnative. May be we have used completely dffrnt langs, and now i have to build a communication btwn them. May be i have to execute python code from java or viceversa, So we need some neutral ground code/protocols/set of rules that is API. - for that we have API . With it we can perform these kind of operations,communication in easiest possible way.\n",
    "* API - Application programming interface.\n",
    "* No matter what application like swiggy, zomato,bookmyshow how system communicates is by API. It never tries to store data in frontend but tries to do everything/action on backend. There is high chance it is written in dffrnt dffrnt langs/frameworks. By this dffrnt langs/systems can be connected/ Communicated.\n",
    "* Bcoz it is just a piece of code implemented by someone. - Any kind of application/software"
   ]
  },
  {
   "attachments": {},
   "cell_type": "markdown",
   "metadata": {},
   "source": [
    "### Web Api"
   ]
  },
  {
   "attachments": {},
   "cell_type": "markdown",
   "metadata": {},
   "source": [
    "Web api is wherever we are trying to do this kind of heterogeneous application access/transaction throuugh http or web is called Web Api.\n",
    "* Ex: whenever we are going to search on something. we get some url on browser(the data we searched). This is client and it is sending data to something server(another system) where some functs are written and this inf goes as input to the func/methods and execute & accumulate & then share the response. To search those  data(alot of) there is an algorithm return. This is something happens. As this is transfering data from here to server(data & search logic) to the by API'S\n",
    "* Through web the protocol used here is the HTTP protocol. API always work on http protocol\n",
    "* EX: for gmail it ask for user id/email/mobile/verifies  (it checks which is written on client interface) to  backend. Here data transfer is done by API's. Basically we\n",
    "have Web api here. we are requesting & it's giving us the response.In Every application we use , API is present somewhere, without it we cannot use it\n",
    "*  We are also going to create, deploy and test in our project."
   ]
  },
  {
   "attachments": {},
   "cell_type": "markdown",
   "metadata": {},
   "source": [
    "### Dffrnce bten API & WEB-API\n",
    "* Based on type of web/mobile based application we can use dffrnt protocols based on the application.\n",
    "#### API\n",
    "* It is something which we can try to create using TCP(Transmission control protocol)/SMTP(simple mail transfer protocol)/HTTP(Hypertext transfor protocol) protocol(Rules).\n",
    "* mAIN Aim- of Creating API is by which we can communicate btwn two homogeneous(framework & lang & library etc are same) or heterogeneous system(viceversa)\n",
    "#### WEB-API\n",
    "* Create using only HTTP protocol\n",
    "* Subset of API "
   ]
  },
  {
   "attachments": {},
   "cell_type": "markdown",
   "metadata": {},
   "source": [
    "#### Rest and Soap Architecture \n",
    "* Comes while creating an API.\n",
    "* Rest - Representational state transfer\n",
    "* SOAP - Simple object access protocol\n",
    "* Both are used to create API.\n",
    "* Both use dffrnt set of protocols not same\n",
    "* With the help of these we can establish the communication btwn both of them.\n",
    "#### Rest Architecture(Restful services also called as Restful API's)\n",
    "* By default uses HTTP(With this we can update ,delete,etc). \n",
    "* We  find the functions - PUT, GET, POST, DELETE(Based on http)\n",
    "* Known for its simplicity & scalability & flexibility.\n",
    "* Less secure than Soap\n",
    "* In case of web based application my choice\n",
    "* Always try to follow client and server architecture. Ex: google search it appends our keyword(search) into the URL & hit some other system bcoz data is not available on google.com but somewhere else. we can find method..,etc and renders result. From client we try to send data. and we have server(kind of system try to entertain our queries) which is going to serve request.\n",
    "* Applications on our mobile behaves like a client bforee we are trying to call options(paytm,banking ,etc)\n",
    "* Stateless : Whatever requests we try to do, our server doesn't try to remember/store/memorize(from our previous work) after our work.\n",
    "* Cacheable - if we try to perform some action repeatedly, as many people trying to load it takes many computing resourses,etc To optimize we have to store it as it should not hit our server bcoz it is very vry bzy. It fetch from server as well as from something where it is stored that is cacheable(it catches the inf so we can improve performance).\n",
    "* It follows uniform interface : Get, Post, Put and Delete are utilized it is called uniformness. like as everyone uses them,similar kind of interfaces ,etc.\n",
    "* Layered System - we are trying to create API with security, scalability feature, Flexibility we can write code them layer by layer & implement them.\n",
    "\n",
    "#### Soap Architecture\n",
    "* Uses TCP/SMTP protocol \n",
    "* Not as simple as Rest\n",
    "* It always transfers all the msgs using XML- extended markup lang inside which we can find out WSDL(Web service Description Language) here in this we can write all the set of the rules.\n",
    "* In case of offline application"
   ]
  },
  {
   "cell_type": "code",
   "execution_count": null,
   "metadata": {},
   "outputs": [],
   "source": []
  }
 ],
 "metadata": {
  "language_info": {
   "name": "python"
  },
  "orig_nbformat": 4
 },
 "nbformat": 4,
 "nbformat_minor": 2
}
