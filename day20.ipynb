{
 "cells": [
  {
   "attachments": {},
   "cell_type": "markdown",
   "metadata": {},
   "source": [
    "### Creating aN API\n",
    "1. bind a func with path & our work is done"
   ]
  },
  {
   "attachments": {},
   "cell_type": "markdown",
   "metadata": {},
   "source": [
    "We cannot do our API's global/public here, but in pw lab we can do that. "
   ]
  },
  {
   "attachments": {},
   "cell_type": "markdown",
   "metadata": {},
   "source": [
    "Here, in the func we have simple hello world program(it behaves as server for us). Our aim is to expose this func to the outer world. Anyone with url should be able to access it. Here, we are trying to create a server(simple machine) with some 100's of functions and we have another system which behaves like client, can access the funcs written inside server. Ex: our client is a browser(it can change as application/lang from where we can execute) .Exposion of this is done by API. We are trying to make it as server with the help of flask. \n",
    "* Every computer has some sort of IP address or url or dls mapping in backend\n",
    "* From client we have to reach out to our computer by a way after reaching may be on some specific port we have some program running there is possibility n number of programs running. One by one we have to access it instead of func name directly(it will not be platform independent)instead we are exposing it as url which is not the lang dependent It follows http protocol. So, we are trying to create route. \n",
    "* If we want to access this func\n",
    "1. Reach on server\n",
    "2. Port Number\n",
    "* To execute the func\n",
    "* Instead you can click on the output urls to open in tab\n",
    "### In pw lab only url (rest concept is same)\n",
    "1. Lab url we see just copy and open in new url till app open in new tab followed by ':5000'(default for flask) and hit enter\n",
    "* We are able to see what we have returned. (means we are able to access are func & inside it)\n",
    "* The entire browser unit(tab) is client, trying to execute my python program(func) from url(browser itself). & the code we written became my server system.\n",
    "* you can see the same in mobile also by copying the url(Url is the API by which we are able to expose our func to outer world) we never called a func.\n",
    "* The url has http protocol with  which we are trying to access it.\n",
    "* Samething happens with gpay and banking systemsby API's.\n"
   ]
  },
  {
   "cell_type": "code",
   "execution_count": 18,
   "metadata": {},
   "outputs": [
    {
     "name": "stdout",
     "output_type": "stream",
     "text": [
      " * Serving Flask app '__main__'\n",
      " * Debug mode: off\n"
     ]
    },
    {
     "name": "stderr",
     "output_type": "stream",
     "text": [
      "WARNING: This is a development server. Do not use it in a production deployment. Use a production WSGI server instead.\n",
      " * Running on all addresses (0.0.0.0)\n",
      " * Running on http://127.0.0.1:5000\n",
      " * Running on http://192.168.43.33:5000\n",
      "Press CTRL+C to quit\n"
     ]
    }
   ],
   "source": [
    "from flask import Flask\n",
    "\n",
    "app = Flask(__name__)\n",
    "\n",
    "@app.route(\"/\")\n",
    "def hello_world():\n",
    "    return \"Hello, World!\"\n",
    "#Atleast one of this type of route&func is required to run\n",
    "\n",
    "@app.route(\"/hello1\")\n",
    "def hello_world1():\n",
    "    return \"Hello, World! Shivii\"\n",
    "\n",
    "@app.route(\"/hello2\")\n",
    "def hello_world2():\n",
    "    return \"Hello, World! It's over\"\n",
    "\n",
    "@app.route(\"/test\")\n",
    "def test():\n",
    "    a=6+2\n",
    "    return f\"this is my first flask code {a}\"\n",
    "\n",
    "if __name__==\"__main__\":\n",
    "    app.run(host=\"0.0.0.0\")"
   ]
  },
  {
   "attachments": {},
   "cell_type": "markdown",
   "metadata": {},
   "source": [
    "How to expose all those 3 funcs above\n",
    "* By  giving route\n",
    "* We can give our own url - 1. Here helloworrld2 is decorated with the given url by us.\n",
    "* In this case we have to paste the url:5000:deco_name_we_gave \n",
    "* Note : You/everyone can see it only when it is are running (server is up & running) \n",
    "* If we have written python code & want to execute it with java/any other code, yes we can do it. & we can establish cross platform communication with the help of API's.\n",
    "1. We have call this url inside java as API\n",
    "* Above in the code in last 4 lines- 200(successful) & 404-(error-page not found / bad gateway)"
   ]
  },
  {
   "attachments": {},
   "cell_type": "markdown",
   "metadata": {},
   "source": [
    "### Get"
   ]
  },
  {
   "attachments": {},
   "cell_type": "markdown",
   "metadata": {},
   "source": [
    "#### Taking input from client side & goes to server and get as return\n",
    "* As it is trying to pass info \n",
    "* import request\n",
    "* We are requesting the input from url\n",
    "* Binding with url is nothing but adding route\n",
    "* To give the data in url :\n",
    "1. After url along with port number add question_mark(?) followed by parameter=(give data)\n",
    "* With the data we can do anything, store in DB's,perform logical operations ,etc everything is possible but we have to take data frst \n",
    "* There are many other methods (through json,url,xml,...n ways) as well to take input apart from get "
   ]
  },
  {
   "cell_type": "code",
   "execution_count": 17,
   "metadata": {},
   "outputs": [
    {
     "name": "stdout",
     "output_type": "stream",
     "text": [
      " * Serving Flask app '__main__'\n",
      " * Debug mode: off\n"
     ]
    },
    {
     "name": "stderr",
     "output_type": "stream",
     "text": [
      "WARNING: This is a development server. Do not use it in a production deployment. Use a production WSGI server instead.\n",
      " * Running on all addresses (0.0.0.0)\n",
      " * Running on http://127.0.0.1:5000\n",
      " * Running on http://192.168.43.33:5000\n",
      "Press CTRL+C to quit\n",
      "127.0.0.1 - - [14/Apr/2023 18:52:35] \"GET / HTTP/1.1\" 200 -\n",
      "127.0.0.1 - - [14/Apr/2023 18:52:35] \"GET /favicon.ico HTTP/1.1\" 404 -\n",
      "127.0.0.1 - - [14/Apr/2023 18:52:43] \"GET /input HTTP/1.1\" 200 -\n",
      "127.0.0.1 - - [14/Apr/2023 18:52:56] \"GET /input?x=hell HTTP/1.1\" 200 -\n"
     ]
    }
   ],
   "source": [
    "from flask import Flask\n",
    "from flask import request\n",
    "\n",
    "app = Flask(__name__)\n",
    "\n",
    "@app.route(\"/\")\n",
    "def hello_world():\n",
    "    return \"Hello, World!\"\n",
    "\n",
    "#Here x is a key(parameter) & passing val in run-time and storing in data\n",
    "@app.route(\"/input\")\n",
    "def taking_input():\n",
    "    data=request.args.get('x')\n",
    "    return f\"this is the input i have got {data}\"\n",
    "\n",
    "if __name__==\"__main__\":\n",
    "    app.run(host=\"0.0.0.0\")"
   ]
  },
  {
   "cell_type": "code",
   "execution_count": null,
   "metadata": {},
   "outputs": [],
   "source": []
  }
 ],
 "metadata": {
  "kernelspec": {
   "display_name": "Python 3",
   "language": "python",
   "name": "python3"
  },
  "language_info": {
   "codemirror_mode": {
    "name": "ipython",
    "version": 3
   },
   "file_extension": ".py",
   "mimetype": "text/x-python",
   "name": "python",
   "nbconvert_exporter": "python",
   "pygments_lexer": "ipython3",
   "version": "3.10.6"
  },
  "orig_nbformat": 4
 },
 "nbformat": 4,
 "nbformat_minor": 2
}
