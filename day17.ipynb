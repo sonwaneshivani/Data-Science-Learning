{
 "cells": [
  {
   "attachments": {},
   "cell_type": "markdown",
   "metadata": {},
   "source": [
    "SQL : Structured Query Language"
   ]
  },
  {
   "attachments": {},
   "cell_type": "markdown",
   "metadata": {},
   "source": [
    "Whenever we store data we need to store in database. we are during learning currently storing data in variables/file inside our system. Tht's fyn but not completely a solution. Whenever we are building interprice grade application we have to store data set in DB. There are many databases. In one application it is possible even we end up using many databases depending on the application, latency, throughput we are expecting. On higher level we can divide DB in two segments.\n",
    "1. MySQL : Structured Query Language. DB's: MySQL(by itself),MSsql(microsoft),db2,oracle\n",
    "* Depending upon functionalities/tieup with organization we can choose the databases\n",
    "2. NO SQL : Not only sql \n",
    "* Multiple databases here are:  MongoDb,Casandra, HBASE, Influx,Neo4j.\n",
    "* Dffrnces btwn Sql & No Sql: Whenever we try try to store data in Sql. It always works with structured data. Ex: excel(try to create multiple columns, store data row wise) in case of sql we do the same thing. we create table & store. It has DB'S, table,views.., We can perform filter operation,search or query operation, can write joint queries, groupby or any kind of windowing function on top of this structure based on this language \n",
    "* In case of nosql system, it always try to accomodate unstructured data may be as text,audio, images we like to store inside Dffrnt DB'S(dffrnt nosql systems as there are multiple nosql systems designed for dffrnt dffrnt purposes).\n",
    "Note : Python & Sql(efficeient& effective) both are dffrnt languages"
   ]
  },
  {
   "attachments": {},
   "cell_type": "markdown",
   "metadata": {},
   "source": [
    "Interaction DB'S with python\n",
    "wHenever we are going to create an application we are going to hold all the data in databases"
   ]
  },
  {
   "attachments": {},
   "cell_type": "markdown",
   "metadata": {},
   "source": [
    "Creating/connecting DB's : to store data into sql,we have to frst create DB's.\n",
    "* Databases: In system we have created a folder(we create multiple files), similarly in sql we create databases(multiple tables).., As a beginner we can understand it as similar to excel\n",
    "* we can even create multiple DB's and multiple tables inside them"
   ]
  },
  {
   "attachments": {},
   "cell_type": "markdown",
   "metadata": {},
   "source": [
    "#### Database Creation"
   ]
  },
  {
   "attachments": {},
   "cell_type": "markdown",
   "metadata": {},
   "source": [
    "1. Go to db icon & click on ccreate connection\n",
    "2. username : root, password : shivani@26\n",
    "3. Next click on plus(+) on the created connection \n",
    "4. for now remove last line & trying to create folder like a structure. Ex: CREATE DATABASE test; //trying to create folder kind of structure & run it. It has just created tab & nothing else\n",
    "5. If we reexecute(rerun it) tells it already exists. This query is called as SQL\n",
    "6. There are so many syntaxs and operations\n",
    "7. To avoid 5 line error we can change the line to Ex: CREATE DATABASE if not exists test;\n",
    "8. We are writing all these things directly in sql. butwe can write same in thing in python that we are achievening\n"
   ]
  },
  {
   "attachments": {},
   "cell_type": "markdown",
   "metadata": {},
   "source": [
    "1. to create sample table, we can click on + there, a new window pops up\n",
    "2. creating table & store data(remove all). It is just like excel sheet. In columns.., storing data row by row.\n",
    "3. CREATE TABLE test_table(c1 INT, c2 VARCHAR(50),c3 INT, c4 FLOAT, c5 VARCHAR(40)); //Here c1,c2..., are rows & followed by datatype. Here varchar is a datatype Equivalent to string and we can specify length in it & Execute it\n",
    "4. On re-executing it will give already exists.., So we can write if not exists"
   ]
  },
  {
   "attachments": {},
   "cell_type": "markdown",
   "metadata": {},
   "source": [
    "#### Performing query operations/same command through python ,not directly through sql"
   ]
  },
  {
   "attachments": {},
   "cell_type": "markdown",
   "metadata": {},
   "source": [
    "1. go and create a file. Ex: day17.py"
   ]
  },
  {
   "cell_type": "markdown",
   "metadata": {},
   "source": []
  }
 ],
 "metadata": {
  "language_info": {
   "name": "python"
  },
  "orig_nbformat": 4
 },
 "nbformat": 4,
 "nbformat_minor": 2
}
